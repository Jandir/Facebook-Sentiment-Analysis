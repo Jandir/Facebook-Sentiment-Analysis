{
 "cells": [
  {
   "cell_type": "code",
   "execution_count": 3,
   "metadata": {},
   "outputs": [],
   "source": [
    "import facebook    #sudo pip install facebook-sdk\n",
    "import json\n",
    "import pandas as pd\n",
    "import datetime\n",
    "import numpy as np"
   ]
  },
  {
   "cell_type": "markdown",
   "metadata": {},
   "source": [
    "# Token de acesso a página"
   ]
  },
  {
   "cell_type": "code",
   "execution_count": 6,
   "metadata": {},
   "outputs": [],
   "source": [
    "access_token = \"XXX\"\n",
    "user = 'XXX' # Nome de Identificação da Fanpage"
   ]
  },
  {
   "cell_type": "code",
   "execution_count": 7,
   "metadata": {},
   "outputs": [],
   "source": [
    "graph = facebook.GraphAPI(access_token)\n",
    "profile = graph.get_object(user)\n"
   ]
  },
  {
   "cell_type": "code",
   "execution_count": 8,
   "metadata": {},
   "outputs": [],
   "source": [
    "dfMessages = { 'Comment': [], 'Classificação': []}\n",
    "dfMessages = pd.DataFrame(data=dfMessages)"
   ]
  },
  {
   "cell_type": "markdown",
   "metadata": {},
   "source": [
    "# Faz uma lista de todos os posts de acordo com o ano de inicio"
   ]
  },
  {
   "cell_type": "code",
   "execution_count": 9,
   "metadata": {},
   "outputs": [],
   "source": [
    "allposts = graph.get_all_connections(id=profile['id'],\n",
    "                                     connection_name='posts',\n",
    "                                     since=datetime.date(2020,1,1)\n",
    "                                     )"
   ]
  },
  {
   "cell_type": "markdown",
   "metadata": {},
   "source": [
    "# Busca os comentários de cada post"
   ]
  },
  {
   "cell_type": "code",
   "execution_count": 10,
   "metadata": {},
   "outputs": [],
   "source": [
    "for postid in allposts:\n",
    "    comentario = graph.get_connections(id=postid['id'], connection_name='comments')\n",
    "    for i in comentario['data']:\n",
    "        dfMessages = dfMessages.append({'Comment': i['message'], 'Classificação': 'Neutro'}, ignore_index=True)"
   ]
  },
  {
   "cell_type": "markdown",
   "metadata": {},
   "source": [
    "# Grava os comentário num arquivo CSV (Temporário)"
   ]
  },
  {
   "cell_type": "code",
   "execution_count": 11,
   "metadata": {},
   "outputs": [],
   "source": [
    "dfMessages.to_csv('test.csv', index = False)"
   ]
  },
  {
   "cell_type": "code",
   "execution_count": 12,
   "metadata": {},
   "outputs": [
    {
     "data": {
      "text/html": [
       "<div>\n",
       "<style scoped>\n",
       "    .dataframe tbody tr th:only-of-type {\n",
       "        vertical-align: middle;\n",
       "    }\n",
       "\n",
       "    .dataframe tbody tr th {\n",
       "        vertical-align: top;\n",
       "    }\n",
       "\n",
       "    .dataframe thead th {\n",
       "        text-align: right;\n",
       "    }\n",
       "</style>\n",
       "<table border=\"1\" class=\"dataframe\">\n",
       "  <thead>\n",
       "    <tr style=\"text-align: right;\">\n",
       "      <th></th>\n",
       "      <th>Comment</th>\n",
       "      <th>Classificação</th>\n",
       "    </tr>\n",
       "  </thead>\n",
       "  <tbody>\n",
       "    <tr>\n",
       "      <td>0</td>\n",
       "      <td>ABENÇOADA PASCOA. BE BLESS. 💐❤️</td>\n",
       "      <td>Neutro</td>\n",
       "    </tr>\n",
       "    <tr>\n",
       "      <td>1</td>\n",
       "      <td>🙏🐰</td>\n",
       "      <td>Neutro</td>\n",
       "    </tr>\n",
       "    <tr>\n",
       "      <td>2</td>\n",
       "      <td>Bom dia</td>\n",
       "      <td>Neutro</td>\n",
       "    </tr>\n",
       "    <tr>\n",
       "      <td>3</td>\n",
       "      <td>E uma pena não encontrar esses produtos nos me...</td>\n",
       "      <td>Neutro</td>\n",
       "    </tr>\n",
       "    <tr>\n",
       "      <td>4</td>\n",
       "      <td>👏😋♥️</td>\n",
       "      <td>Neutro</td>\n",
       "    </tr>\n",
       "    <tr>\n",
       "      <td>...</td>\n",
       "      <td>...</td>\n",
       "      <td>...</td>\n",
       "    </tr>\n",
       "    <tr>\n",
       "      <td>74</td>\n",
       "      <td></td>\n",
       "      <td>Neutro</td>\n",
       "    </tr>\n",
       "    <tr>\n",
       "      <td>75</td>\n",
       "      <td>Boa tarde. Muito bom</td>\n",
       "      <td>Neutro</td>\n",
       "    </tr>\n",
       "    <tr>\n",
       "      <td>76</td>\n",
       "      <td>Bom dia</td>\n",
       "      <td>Neutro</td>\n",
       "    </tr>\n",
       "    <tr>\n",
       "      <td>77</td>\n",
       "      <td>ABENÇOADO ANO NOVO 👏💃🎇🎆🎉🎊 BE BLESS 💃🎇🎆🎉🎊</td>\n",
       "      <td>Neutro</td>\n",
       "    </tr>\n",
       "    <tr>\n",
       "      <td>78</td>\n",
       "      <td>👏👏🙏</td>\n",
       "      <td>Neutro</td>\n",
       "    </tr>\n",
       "  </tbody>\n",
       "</table>\n",
       "<p>79 rows × 2 columns</p>\n",
       "</div>"
      ],
      "text/plain": [
       "                                              Comment Classificação\n",
       "0                     ABENÇOADA PASCOA. BE BLESS. 💐❤️        Neutro\n",
       "1                                                  🙏🐰        Neutro\n",
       "2                                             Bom dia        Neutro\n",
       "3   E uma pena não encontrar esses produtos nos me...        Neutro\n",
       "4                                                👏😋♥️        Neutro\n",
       "..                                                ...           ...\n",
       "74                                                           Neutro\n",
       "75                               Boa tarde. Muito bom        Neutro\n",
       "76                                            Bom dia        Neutro\n",
       "77           ABENÇOADO ANO NOVO 👏💃🎇🎆🎉🎊 BE BLESS 💃🎇🎆🎉🎊        Neutro\n",
       "78                                                👏👏🙏        Neutro\n",
       "\n",
       "[79 rows x 2 columns]"
      ]
     },
     "execution_count": 12,
     "metadata": {},
     "output_type": "execute_result"
    }
   ],
   "source": [
    "dfMessages"
   ]
  },
  {
   "cell_type": "markdown",
   "metadata": {},
   "source": [
    "# Processo de Análise de Sentimento em cima dos comentários recolhidos da fanpage"
   ]
  },
  {
   "cell_type": "code",
   "execution_count": 14,
   "metadata": {},
   "outputs": [],
   "source": [
    "from vaderSentiment.vaderSentiment import SentimentIntensityAnalyzer\n",
    "analyzer = SentimentIntensityAnalyzer()"
   ]
  },
  {
   "cell_type": "code",
   "execution_count": 15,
   "metadata": {},
   "outputs": [],
   "source": [
    "from yandex.Translater import Translater\n",
    "tr = Translater()\n",
    "tr.set_key('xxx') # Api key found on https://translate.yandex.com/developers/keys\n",
    "tr.set_from_lang('pt')\n",
    "tr.set_to_lang('en')"
   ]
  },
  {
   "cell_type": "code",
   "execution_count": 16,
   "metadata": {
    "scrolled": true
   },
   "outputs": [
    {
     "name": "stdout",
     "output_type": "stream",
     "text": [
      "ABENÇOADA PASCOA. BE BLESS. 💐❤️   Positivo\n",
      "🙏🐰   Neutro\n",
      "Bom dia   Positivo\n",
      "E uma pena não encontrar esses produtos nos mercados daqui   Negativo\n",
      "👏😋♥️   Neutro\n",
      "Será que tem bacalhau ou é  tipo a coxinha que não  tem frango? 🤨😬   Negativo\n",
      "Seja qual for a combinação são extremamente ótimos 😋♥️   Positivo\n",
      "Boa tarde   Positivo\n",
      "Gostaria de saber se é  padrão vir sem recheio ou comprei um pacote com problema de fábrica?   Negativo\n",
      "Péssima coxinha, só vem massa. 🤔\n",
      "Deveria chamar \"Bolinha de massa\"\n",
      "Não aconselho ninguém  comprar.\n",
      "Ainda bem que  comprei só 1 pacote 😡🤬   Negativo\n",
      "❤️   Neutro\n",
      "😋😋♥️   Neutro\n",
      "Que Deus abençoe todos  vocês.   Positivo\n",
      "Parabéns a toda equipe maricota! Que Deus abençoe vocês e suas famílias   Positivo\n",
      "   Neutro\n",
      "👏👏🙏   Neutro\n",
      "👏🏻👏🏻   Neutro\n",
      "Eu amo o pão de queijo de vcs !!!!!!   Positivo\n",
      "   Neutro\n",
      "Parabéns, Maricota!!!!!    Positivo\n",
      "👏   Neutro\n",
      "👏👏🙏   Neutro\n",
      "👏👏👏👏   Neutro\n",
      "Parabéns ,tenho orgulho te ter feito parte deste empresa!!!!Que caía bençãos sobre a empresa e seus administradores!!!   Positivo\n",
      "😱🙏😍❤️   Negativo\n",
      "😍 PARABÉNS BE BLESS 💐   Positivo\n",
      "Com produtos de excelência em qualidade, a receita é essa... Sucesso 👏👏👏\n",
      "Nos orgulhamos em fazer parte do time Maricota Alimentos.   Positivo\n",
      "Parabéns pra você e toda sua equipe!   Positivo\n",
      "   Neutro\n",
      "Parabéns MARiCOTA....frutos colhidos de grande dedicação no empreendimento familiar.Parabéns Dirce e Evelande,como luzences muito nos orgulha....   Positivo\n",
      "👏👏👏👏👏👏   Neutro\n",
      "Que bom, parabéns  Ronaldo  e a todos  que trabalham na empresa.Luz está  no cenário  nunca sónhado.   Positivo\n",
      "🇧🇷 Parabéns Branco!!! 🇧🇷 E parabéns a toda a família !!! 🇧🇷   Positivo\n",
      "Nossa parabéns   Positivo\n",
      "👏🏻👏🏻👏🏻👏🏻👏🏻👏🏻   Neutro\n",
      "👏🏻👏🏻👏🏻👏🏻👏🏻   Neutro\n",
      "PARABÉNS 💐 BE BLESS.   Positivo\n",
      "Parabéns   Positivo\n",
      "Parabéns 👏👏👏   Positivo\n",
      "Parabéns a todos da Maricota!   Positivo\n",
      "   Neutro\n",
      "Parabéns Equipe Maricota!!!!   Positivo\n",
      "Parabéns essa eu aprovo.   Positivo\n",
      "Parabéns 👏👏👏 aos Maricota   Positivo\n",
      "👏👏👏👏👏   Neutro\n",
      "👏👏👏   Neutro\n",
      "Parabéns Branco! Vc merece!   Positivo\n",
      "👏👏👏👏👏👏   Neutro\n",
      "Parabéns a toda família Maricota, nos sentimos orgulhosos por ver GENTE DA GENTE serem reconhecidos no cenário Internacional . \n",
      "Hoje vcs  colhem o fruto de um trabalho que fez diferença no mercado. \n",
      "Parabéns . \n",
      "#sucessouniãoegarra !!   Positivo\n",
      "Parabens!!!!   Positivo\n",
      "Parabéns!A minha mãe,naquela simplicidade,deve estar \"lá de cima\"aplaudindo vocês.   Positivo\n",
      "   Neutro\n",
      "👏👏😋   Neutro\n",
      "Comprei as coxinhas de frango para experimentar... odiei! Só massa , uma miséria de recheio, alias nem coxinha era..decepcionada!   Negativo\n",
      "😊😋😍   Positivo\n",
      "😍😍😍   Positivo\n",
      "Boa tarde   Positivo\n",
      "Amoooooooooo   Neutro\n",
      "Tem fábrica aqui Luz Mg mais eles não vendem pra nós 😢e nos amamos as delícias da Maricota😋😋❤❤❤❤   Positivo\n",
      "Realmente sou de Estrela do indaia também gostaria de encontrar os produtos Maricota   Positivo\n",
      "Amooooooooo   Neutro\n",
      "👏😋❤   Neutro\n",
      "❤❤😋   Neutro\n",
      "IGUALMENTE 😘💐   Positivo\n",
      "😍   Positivo\n",
      "Tinha que ser mesmo não sei se essa mais tem uma com recheio de doce leite tbm é uma delícia 😋😋❤   Positivo\n",
      "Eu tbm quero 😋\n",
      "O melhor 👏❤   Positivo\n",
      "QUANDO VOLTA PARA O ATACADAO PORTO  ALEGRE RS   Neutro\n",
      "Vi que vcs produzem coisas com trigo. Os Pães de queijo são livres de contaminação cruzada de glúten?   Positivo\n",
      "😍😍😋   Positivo\n",
      "   Neutro\n",
      "Sem sombras de dúvidas a número 1👏👏😋😋😋   Negativo\n",
      "Realmente saudades 😍   Positivo\n",
      "Delícia adoro chipa   Positivo\n",
      "   Neutro\n",
      "Boa tarde. Muito bom   Positivo\n",
      "Bom dia   Positivo\n",
      "ABENÇOADO ANO NOVO 👏💃🎇🎆🎉🎊 BE BLESS 💃🎇🎆🎉🎊   Positivo\n",
      "👏👏🙏   Neutro\n"
     ]
    }
   ],
   "source": [
    "for index, row in dfMessages.iterrows():\n",
    "    sSentimento = 'Neutro'\n",
    "    \n",
    "    # Caso o comentário não esteja vazio\n",
    "    if row['Comment']:\n",
    "    \n",
    "        sComment = row['Comment']\n",
    "        tr.set_text(sComment)\n",
    "        sComment = tr.translate()\n",
    "        \n",
    "        vs = analyzer.polarity_scores(sComment)\n",
    "    \n",
    "        if vs['compound'] >= 0.05:\n",
    "            sSentimento = 'Positivo'\n",
    "        elif vs['compound'] <= -0.05:\n",
    "            sSentimento = 'Negativo'\n",
    "\n",
    "    # Acrescenta-se a classificação no dataframe original\n",
    "    dfMessages.loc[index]['Classificação'] = sSentimento\n",
    "    print(row['Comment'], ' ', sSentimento)\n",
    "        \n",
    "    \n",
    "\n",
    "    \n"
   ]
  },
  {
   "cell_type": "code",
   "execution_count": 17,
   "metadata": {},
   "outputs": [],
   "source": [
    "dfMessages.to_csv('classificacao.csv', index = False)"
   ]
  }
 ],
 "metadata": {
  "kernelspec": {
   "display_name": "Python 3",
   "language": "python",
   "name": "python3"
  },
  "language_info": {
   "codemirror_mode": {
    "name": "ipython",
    "version": 3
   },
   "file_extension": ".py",
   "mimetype": "text/x-python",
   "name": "python",
   "nbconvert_exporter": "python",
   "pygments_lexer": "ipython3",
   "version": "3.7.4"
  }
 },
 "nbformat": 4,
 "nbformat_minor": 2
}
